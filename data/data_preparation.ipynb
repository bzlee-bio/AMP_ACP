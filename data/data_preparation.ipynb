{
 "cells": [
  {
   "cell_type": "code",
   "execution_count": 60,
   "id": "67d0408c-31f9-4068-a55a-1fca1da685b3",
   "metadata": {},
   "outputs": [],
   "source": [
    "from Bio import SeqIO\n",
    "import numpy as np\n",
    "import pandas as pd\n",
    "import copy\n",
    "import random"
   ]
  },
  {
   "cell_type": "markdown",
   "id": "d57ce82e-1556-4df5-88b7-d38e95bd3570",
   "metadata": {},
   "source": [
    "### Split train & test dataset"
   ]
  },
  {
   "cell_type": "code",
   "execution_count": 2,
   "id": "d7036d93-3c41-4394-a549-c73346bcff14",
   "metadata": {},
   "outputs": [],
   "source": [
    "### Load dataset\n",
    "\n",
    "file_path = {'AMP':'./processing/AMP_c_0.6.fasta',\\\n",
    "             'ACP':'./processing/ACP_c_0.6.fasta',\\\n",
    "             'Negative':'./processing/uniref50_no_redundancy_w_AMP_ACP.fasta'}"
   ]
  },
  {
   "cell_type": "code",
   "execution_count": 6,
   "id": "baf62025-43f7-4e51-b616-06239f24c53b",
   "metadata": {},
   "outputs": [
    {
     "name": "stdout",
     "output_type": "stream",
     "text": [
      "AMP Sequence length: 1636\n",
      "ACP Sequence length: 542\n",
      "Negative Sequence length: 288675\n"
     ]
    }
   ],
   "source": [
    "sequences = dict()\n",
    "pep_len = dict()\n",
    "for tgt, path in file_path.items():\n",
    "    sequences[tgt] = list()\n",
    "    pep_len[tgt] = list()\n",
    "    for seq in SeqIO.parse(path,'fasta'):\n",
    "        if 'x' not in str(seq.seq) and 'X' not in str(seq.seq):\n",
    "            sequences[tgt].append(seq) ### SeqRecord append (SeqRecord from Bio)\n",
    "            pep_len[tgt].append(len(str(seq.seq))) ### Append each peptide sequence length \n",
    "        _len = len(sequences[tgt])\n",
    "    print(f'{tgt} Sequence length: {_len}')"
   ]
  },
  {
   "cell_type": "code",
   "execution_count": 24,
   "id": "c292d147-6d8c-435a-b13e-b96b52209d84",
   "metadata": {},
   "outputs": [
    {
     "data": {
      "text/plain": [
       "SeqRecord(seq=Seq('MAKQGSKGEKG'), id='UniRef50_F1AU43', name='UniRef50_F1AU43', description='UniRef50_F1AU43 Gag polyprotein (Fragment) n=1 Tax=Ovine progressive pneumonia virus TaxID=253923 RepID=F1AU43_9RETR', dbxrefs=[])"
      ]
     },
     "execution_count": 24,
     "metadata": {},
     "output_type": "execute_result"
    }
   ],
   "source": [
    "seq ### SeqRecord contains sequence, id, name, description information of peptides"
   ]
  },
  {
   "cell_type": "markdown",
   "id": "88f37769-1175-4dca-afdc-b44032301a05",
   "metadata": {
    "tags": []
   },
   "source": [
    "### ACP dataset peptide length histogram\n",
    "- Most of length were enriched under 30 AA residues"
   ]
  },
  {
   "cell_type": "code",
   "execution_count": 20,
   "id": "0145c0c5-5bfb-4451-ba1a-48bd085f2d29",
   "metadata": {},
   "outputs": [
    {
     "data": {
      "text/plain": [
       "array([[<AxesSubplot:title={'center':'0'}>]], dtype=object)"
      ]
     },
     "execution_count": 20,
     "metadata": {},
     "output_type": "execute_result"
    },
    {
     "data": {
      "image/png": "[encoded data removed]",
      "text/plain": [
       "<Figure size 432x288 with 1 Axes>"
      ]
     },
     "metadata": {
      "needs_background": "light"
     },
     "output_type": "display_data"
    }
   ],
   "source": [
    "pd.DataFrame(pep_len['ACP']).hist()"
   ]
  },
  {
   "cell_type": "markdown",
   "id": "50090b2b-50fc-4ed7-a696-d32c176ae066",
   "metadata": {},
   "source": [
    "### AMP dataset peptide length histogram\n",
    "- Most of length were enriched under 30 AA residues"
   ]
  },
  {
   "cell_type": "code",
   "execution_count": 19,
   "id": "e4e7babb-f253-478e-a717-88817978aa96",
   "metadata": {},
   "outputs": [
    {
     "data": {
      "text/plain": [
       "array([[<AxesSubplot:title={'center':'0'}>]], dtype=object)"
      ]
     },
     "execution_count": 19,
     "metadata": {},
     "output_type": "execute_result"
    },
    {
     "data": {
      "image/png": "[encoded data removed]",
      "text/plain": [
       "<Figure size 432x288 with 1 Axes>"
      ]
     },
     "metadata": {
      "needs_background": "light"
     },
     "output_type": "display_data"
    }
   ],
   "source": [
    "pd.DataFrame(pep_len['AMP']).hist()"
   ]
  },
  {
   "cell_type": "markdown",
   "id": "82cac501-629a-43ae-8fc2-c3664cb093f7",
   "metadata": {},
   "source": [
    "### Peptide length cutoff as 30"
   ]
  },
  {
   "cell_type": "markdown",
   "id": "7d8d9982-57a6-4a01-88b4-3ea9a7d0f8ed",
   "metadata": {},
   "source": [
    "## Dataset loading"
   ]
  },
  {
   "cell_type": "code",
   "execution_count": 83,
   "id": "fc3b357e-3898-4e80-85d3-cb2554c8c054",
   "metadata": {},
   "outputs": [
    {
     "name": "stdout",
     "output_type": "stream",
     "text": [
      "AMP Sequence length: 1636\n",
      "ACP Sequence length: 496\n",
      "Negative Sequence length: 288675\n"
     ]
    }
   ],
   "source": [
    "sequences = dict()\n",
    "pep_len = dict()\n",
    "for tgt, path in file_path.items():\n",
    "    sequences[tgt] = list()\n",
    "    pep_len[tgt] = list()\n",
    "    for seq in SeqIO.parse(path,'fasta'):\n",
    "        if 'x' not in str(seq.seq) and 'X' not in str(seq.seq) and len(seq.seq)<=30:\n",
    "            sequences[tgt].append(seq) ### SeqRecord append (SeqRecord from Bio)\n",
    "            pep_len[tgt].append(len(str(seq.seq))) ### Append each peptide sequence length \n",
    "        _len = len(sequences[tgt])\n",
    "    print(f'{tgt} Sequence length: {_len}')"
   ]
  },
  {
   "cell_type": "markdown",
   "id": "bdb267bc-0949-4a86-9eaa-f46108e99943",
   "metadata": {},
   "source": [
    "### Train test dataset split"
   ]
  },
  {
   "cell_type": "code",
   "execution_count": 84,
   "id": "5c0c86d6-5be3-41b4-92f4-ee3af8d8dba2",
   "metadata": {},
   "outputs": [],
   "source": [
    "def nFoldSplit(dat, n_fold):\n",
    "    data=copy.deepcopy(dat)\n",
    "\n",
    "    random.shuffle(data)\n",
    "\n",
    "    nFoldData = list()\n",
    "    i=0\n",
    "    while True:\n",
    "        try:\n",
    "            temp = data.pop()\n",
    "            if i//n_fold==0:\n",
    "                nFoldData.append([temp])\n",
    "            else:\n",
    "                idx = i%n_fold\n",
    "                nFoldData[idx]+=[temp]\n",
    "            i+=1\n",
    "        except IndexError:\n",
    "            break\n",
    "    return nFoldData"
   ]
  },
  {
   "cell_type": "code",
   "execution_count": 85,
   "id": "c0d123dc-08a5-4e07-a409-6b9b9885c67e",
   "metadata": {},
   "outputs": [],
   "source": [
    "def negative_sampling(neg_data, length):\n",
    "    random.shuffle(neg_data)\n",
    "    sampled_data = copy.deepcopy(neg_data[:length])\n",
    "    neg_data = neg_data[length:]\n",
    "    return sampled_data, neg_data"
   ]
  },
  {
   "cell_type": "code",
   "execution_count": 98,
   "id": "c59b30b1-c205-411f-abde-d15549d9ce90",
   "metadata": {},
   "outputs": [],
   "source": [
    "tr_seqs = dict()\n",
    "tr_neg_seqs = dict()\n",
    "test_seqs = dict()\n",
    "test_neg_seqs = dict()\n",
    "\n",
    "test_ratio = 0.3\n",
    "for tgt in ['AMP','ACP']:\n",
    "    seq_len = len(sequences[tgt])\n",
    "    test_len = int(seq_len*test_ratio)\n",
    "    test_seqs[tgt] = sequences[tgt][:test_len]\n",
    "    test_neg_seqs[tgt], sequences['Negative'] = negative_sampling(sequences['Negative'], test_len)\n",
    "    \n",
    "    tr_seqs[tgt] = nFoldSplit(sequences[tgt][test_len:],n_fold = 5)\n",
    "    neg_temp, sequences['Negative'] = negative_sampling(sequences['Negative'],seq_len-test_len)\n",
    "    tr_neg_seqs[tgt] = nFoldSplit(neg_temp, n_fold=5)\n",
    "    \n",
    "\n",
    "tot_data = list()\n",
    "for tgt in ['AMP','ACP']:\n",
    "    for fold, fold_data in enumerate(tr_seqs[tgt]):\n",
    "        for seq in fold_data:\n",
    "            tot_data.append([seq.id, str(seq.seq), 'train', fold, tgt, 1]) ## ID, Sequence, train, n_fold, target, Positive:1\n",
    "\n",
    "    for fold, fold_data in enumerate(tr_neg_seqs[tgt]):\n",
    "        for seq in fold_data:\n",
    "            tot_data.append([seq.id, str(seq.seq), 'train', fold, tgt, 0]) ## ID, Sequence, train, n_fold, target, Negative:0\n",
    "        \n",
    "    for seq in test_seqs[tgt]:\n",
    "        tot_data.append([seq.id, str(seq.seq), 'test', -1, tgt, 1]) ## ID, Sequence, train, n_fold, target, Negative:0\n",
    "\n",
    "    for seq in test_neg_seqs[tgt]:\n",
    "        tot_data.append([seq.id, str(seq.seq), 'test', -1, tgt, 0]) ## ID, Sequence, train, n_fold, target, Negative:0\n",
    "        \n",
    "\n",
    "    "
   ]
  },
  {
   "cell_type": "code",
   "execution_count": 99,
   "id": "aacfca5d-87a1-4f2c-9e3e-ff8fec853bce",
   "metadata": {},
   "outputs": [],
   "source": [
    "pd.DataFrame(tot_data, columns=['ID', 'Sequence', 'Train/test', 'Num Fold', 'Target', 'Pos/Neg']).to_csv('./train_dataset/amp_acp_dataset.csv', index=None)"
   ]
  },
  {
   "cell_type": "code",
   "execution_count": 100,
   "id": "19f89b9a-c4fd-4bf9-9a45-7e4093b67310",
   "metadata": {},
   "outputs": [],
   "source": [
    "temp = pd.DataFrame(tot_data, columns=['ID', 'Sequence', 'Train/test', 'Num Fold', 'Target', 'Pos/Neg'])"
   ]
  },
  {
   "cell_type": "code",
   "execution_count": 101,
   "id": "8d4fd315-6174-4328-becc-b3b2ce7ad573",
   "metadata": {},
   "outputs": [
    {
     "data": {
      "text/plain": [
       "Train/test  Target  Pos/Neg\n",
       "test        ACP     0           148\n",
       "                    1           148\n",
       "            AMP     0           490\n",
       "                    1           490\n",
       "train       ACP     0           348\n",
       "                    1           348\n",
       "            AMP     0          1146\n",
       "                    1          1146\n",
       "dtype: int64"
      ]
     },
     "execution_count": 101,
     "metadata": {},
     "output_type": "execute_result"
    }
   ],
   "source": [
    "#Final Dataset info\n",
    "temp.groupby(['Train/test', 'Target', 'Pos/Neg']).size()"
   ]
  }
 ],
 "metadata": {
  "kernelspec": {
   "display_name": "tensorflow2",
   "language": "python",
   "name": "tf2"
  },
  "language_info": {
   "codemirror_mode": {
    "name": "ipython",
    "version": 3
   },
   "file_extension": ".py",
   "mimetype": "text/x-python",
   "name": "python",
   "nbconvert_exporter": "python",
   "pygments_lexer": "ipython3",
   "version": "3.8.12"
  }
 },
 "nbformat": 4,
 "nbformat_minor": 5
}
